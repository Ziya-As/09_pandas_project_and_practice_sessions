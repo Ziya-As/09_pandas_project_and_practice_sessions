{
 "cells": [
  {
   "cell_type": "code",
   "execution_count": 4,
   "id": "79f9e388",
   "metadata": {},
   "outputs": [],
   "source": [
    "import pandas as pd\n",
    "import numpy as np"
   ]
  },
  {
   "cell_type": "code",
   "execution_count": 5,
   "id": "6cc15c82",
   "metadata": {},
   "outputs": [],
   "source": [
    "data = {\n",
    "    'Player': ['Barry Bonds', 'Hank Aaron', 'Babe Ruth', 'Alex Rodriguez', 'Albert Pujols',\n",
    "        'Willie Mays', 'Ken Griffey Jr.'],\n",
    "    'HR': [762, 755, 714, 696, 703, 660, np.nan], #630 replace by nan\n",
    "    'Team': ['Giants', 'Braves', 'Yankes', 'Yanks', 'Cardinals', 'New York Giants', 'Mariners']\n",
    "}"
   ]
  },
  {
   "cell_type": "code",
   "execution_count": 6,
   "id": "aa8f3285",
   "metadata": {},
   "outputs": [],
   "source": [
    "df = pd.DataFrame(data)"
   ]
  },
  {
   "cell_type": "code",
   "execution_count": 7,
   "id": "971f7b45",
   "metadata": {},
   "outputs": [
    {
     "data": {
      "text/html": [
       "<div>\n",
       "<style scoped>\n",
       "    .dataframe tbody tr th:only-of-type {\n",
       "        vertical-align: middle;\n",
       "    }\n",
       "\n",
       "    .dataframe tbody tr th {\n",
       "        vertical-align: top;\n",
       "    }\n",
       "\n",
       "    .dataframe thead th {\n",
       "        text-align: right;\n",
       "    }\n",
       "</style>\n",
       "<table border=\"1\" class=\"dataframe\">\n",
       "  <thead>\n",
       "    <tr style=\"text-align: right;\">\n",
       "      <th></th>\n",
       "      <th>Player</th>\n",
       "      <th>HR</th>\n",
       "      <th>Team</th>\n",
       "    </tr>\n",
       "  </thead>\n",
       "  <tbody>\n",
       "    <tr>\n",
       "      <th>0</th>\n",
       "      <td>Barry Bonds</td>\n",
       "      <td>762.0</td>\n",
       "      <td>Giants</td>\n",
       "    </tr>\n",
       "    <tr>\n",
       "      <th>1</th>\n",
       "      <td>Hank Aaron</td>\n",
       "      <td>755.0</td>\n",
       "      <td>Braves</td>\n",
       "    </tr>\n",
       "    <tr>\n",
       "      <th>2</th>\n",
       "      <td>Babe Ruth</td>\n",
       "      <td>714.0</td>\n",
       "      <td>Yankes</td>\n",
       "    </tr>\n",
       "    <tr>\n",
       "      <th>3</th>\n",
       "      <td>Alex Rodriguez</td>\n",
       "      <td>696.0</td>\n",
       "      <td>Yanks</td>\n",
       "    </tr>\n",
       "    <tr>\n",
       "      <th>4</th>\n",
       "      <td>Albert Pujols</td>\n",
       "      <td>703.0</td>\n",
       "      <td>Cardinals</td>\n",
       "    </tr>\n",
       "    <tr>\n",
       "      <th>5</th>\n",
       "      <td>Willie Mays</td>\n",
       "      <td>660.0</td>\n",
       "      <td>New York Giants</td>\n",
       "    </tr>\n",
       "    <tr>\n",
       "      <th>6</th>\n",
       "      <td>Ken Griffey Jr.</td>\n",
       "      <td>NaN</td>\n",
       "      <td>Mariners</td>\n",
       "    </tr>\n",
       "  </tbody>\n",
       "</table>\n",
       "</div>"
      ],
      "text/plain": [
       "            Player     HR             Team\n",
       "0      Barry Bonds  762.0           Giants\n",
       "1       Hank Aaron  755.0           Braves\n",
       "2        Babe Ruth  714.0           Yankes\n",
       "3   Alex Rodriguez  696.0            Yanks\n",
       "4    Albert Pujols  703.0        Cardinals\n",
       "5      Willie Mays  660.0  New York Giants\n",
       "6  Ken Griffey Jr.    NaN         Mariners"
      ]
     },
     "execution_count": 7,
     "metadata": {},
     "output_type": "execute_result"
    }
   ],
   "source": [
    "df"
   ]
  },
  {
   "cell_type": "code",
   "execution_count": 8,
   "id": "4caaf64f",
   "metadata": {},
   "outputs": [],
   "source": [
    "# Example 1 single value\n",
    "df['Team'] = df['Team'].replace('Braves', 'Atlanta Braves')"
   ]
  },
  {
   "cell_type": "code",
   "execution_count": 10,
   "id": "6472d7f3",
   "metadata": {},
   "outputs": [
    {
     "data": {
      "text/html": [
       "<div>\n",
       "<style scoped>\n",
       "    .dataframe tbody tr th:only-of-type {\n",
       "        vertical-align: middle;\n",
       "    }\n",
       "\n",
       "    .dataframe tbody tr th {\n",
       "        vertical-align: top;\n",
       "    }\n",
       "\n",
       "    .dataframe thead th {\n",
       "        text-align: right;\n",
       "    }\n",
       "</style>\n",
       "<table border=\"1\" class=\"dataframe\">\n",
       "  <thead>\n",
       "    <tr style=\"text-align: right;\">\n",
       "      <th></th>\n",
       "      <th>Player</th>\n",
       "      <th>HR</th>\n",
       "      <th>Team</th>\n",
       "    </tr>\n",
       "  </thead>\n",
       "  <tbody>\n",
       "    <tr>\n",
       "      <th>0</th>\n",
       "      <td>Barry Bonds</td>\n",
       "      <td>762.0</td>\n",
       "      <td>Giants</td>\n",
       "    </tr>\n",
       "    <tr>\n",
       "      <th>1</th>\n",
       "      <td>Hank Aaron</td>\n",
       "      <td>755.0</td>\n",
       "      <td>Atlanta Braves</td>\n",
       "    </tr>\n",
       "    <tr>\n",
       "      <th>2</th>\n",
       "      <td>Babe Ruth</td>\n",
       "      <td>714.0</td>\n",
       "      <td>Yankes</td>\n",
       "    </tr>\n",
       "    <tr>\n",
       "      <th>3</th>\n",
       "      <td>Alex Rodriguez</td>\n",
       "      <td>696.0</td>\n",
       "      <td>Yanks</td>\n",
       "    </tr>\n",
       "    <tr>\n",
       "      <th>4</th>\n",
       "      <td>Albert Pujols</td>\n",
       "      <td>703.0</td>\n",
       "      <td>Cardinals</td>\n",
       "    </tr>\n",
       "    <tr>\n",
       "      <th>5</th>\n",
       "      <td>Willie Mays</td>\n",
       "      <td>660.0</td>\n",
       "      <td>New York Giants</td>\n",
       "    </tr>\n",
       "    <tr>\n",
       "      <th>6</th>\n",
       "      <td>Ken Griffey Jr.</td>\n",
       "      <td>NaN</td>\n",
       "      <td>Mariners</td>\n",
       "    </tr>\n",
       "  </tbody>\n",
       "</table>\n",
       "</div>"
      ],
      "text/plain": [
       "            Player     HR             Team\n",
       "0      Barry Bonds  762.0           Giants\n",
       "1       Hank Aaron  755.0   Atlanta Braves\n",
       "2        Babe Ruth  714.0           Yankes\n",
       "3   Alex Rodriguez  696.0            Yanks\n",
       "4    Albert Pujols  703.0        Cardinals\n",
       "5      Willie Mays  660.0  New York Giants\n",
       "6  Ken Griffey Jr.    NaN         Mariners"
      ]
     },
     "execution_count": 10,
     "metadata": {},
     "output_type": "execute_result"
    }
   ],
   "source": [
    "df"
   ]
  },
  {
   "cell_type": "code",
   "execution_count": 11,
   "id": "1b685350",
   "metadata": {},
   "outputs": [],
   "source": [
    "# Example 2: replace multiple values with one value\n",
    "df['Team'] = df['Team'].replace(['Yankes', 'Yanks'], 'New York Yankees')"
   ]
  },
  {
   "cell_type": "code",
   "execution_count": null,
   "id": "5f31f48b",
   "metadata": {},
   "outputs": [],
   "source": [
    "# Example 3: Multiple values\n",
    "df['Team'] = df['Team'].replace({\n",
    "  'Giants': 'San Fransisco Giants',\n",
    "  'Mariners': 'Seattle Mariners'\n",
    "})"
   ]
  },
  {
   "cell_type": "code",
   "execution_count": 13,
   "id": "1e087b27",
   "metadata": {},
   "outputs": [
    {
     "data": {
      "text/html": [
       "<div>\n",
       "<style scoped>\n",
       "    .dataframe tbody tr th:only-of-type {\n",
       "        vertical-align: middle;\n",
       "    }\n",
       "\n",
       "    .dataframe tbody tr th {\n",
       "        vertical-align: top;\n",
       "    }\n",
       "\n",
       "    .dataframe thead th {\n",
       "        text-align: right;\n",
       "    }\n",
       "</style>\n",
       "<table border=\"1\" class=\"dataframe\">\n",
       "  <thead>\n",
       "    <tr style=\"text-align: right;\">\n",
       "      <th></th>\n",
       "      <th>Player</th>\n",
       "      <th>HR</th>\n",
       "      <th>Team</th>\n",
       "    </tr>\n",
       "  </thead>\n",
       "  <tbody>\n",
       "    <tr>\n",
       "      <th>0</th>\n",
       "      <td>Barry Bonds</td>\n",
       "      <td>762.0</td>\n",
       "      <td>San Fransisco Giants</td>\n",
       "    </tr>\n",
       "    <tr>\n",
       "      <th>1</th>\n",
       "      <td>Hank Aaron</td>\n",
       "      <td>755.0</td>\n",
       "      <td>Atlanta Braves</td>\n",
       "    </tr>\n",
       "    <tr>\n",
       "      <th>2</th>\n",
       "      <td>Babe Ruth</td>\n",
       "      <td>714.0</td>\n",
       "      <td>New York Yankees</td>\n",
       "    </tr>\n",
       "    <tr>\n",
       "      <th>3</th>\n",
       "      <td>Alex Rodriguez</td>\n",
       "      <td>696.0</td>\n",
       "      <td>New York Yankees</td>\n",
       "    </tr>\n",
       "    <tr>\n",
       "      <th>4</th>\n",
       "      <td>Albert Pujols</td>\n",
       "      <td>703.0</td>\n",
       "      <td>Cardinals</td>\n",
       "    </tr>\n",
       "    <tr>\n",
       "      <th>5</th>\n",
       "      <td>Willie Mays</td>\n",
       "      <td>660.0</td>\n",
       "      <td>New York Giants</td>\n",
       "    </tr>\n",
       "    <tr>\n",
       "      <th>6</th>\n",
       "      <td>Ken Griffey Jr.</td>\n",
       "      <td>NaN</td>\n",
       "      <td>Seattle Mariners</td>\n",
       "    </tr>\n",
       "  </tbody>\n",
       "</table>\n",
       "</div>"
      ],
      "text/plain": [
       "            Player     HR                  Team\n",
       "0      Barry Bonds  762.0  San Fransisco Giants\n",
       "1       Hank Aaron  755.0        Atlanta Braves\n",
       "2        Babe Ruth  714.0      New York Yankees\n",
       "3   Alex Rodriguez  696.0      New York Yankees\n",
       "4    Albert Pujols  703.0             Cardinals\n",
       "5      Willie Mays  660.0       New York Giants\n",
       "6  Ken Griffey Jr.    NaN      Seattle Mariners"
      ]
     },
     "execution_count": 13,
     "metadata": {},
     "output_type": "execute_result"
    }
   ],
   "source": [
    "df"
   ]
  },
  {
   "cell_type": "code",
   "execution_count": 14,
   "id": "b98c4d1c",
   "metadata": {},
   "outputs": [],
   "source": [
    "# Example 4: multiple values - list\n",
    "df['Team'] = df['Team'].replace(\n",
    "  ['San Fransisco Giants', 'Atlanta Braves'], \n",
    "  ['SF Giants', 'ATL Braves']\n",
    ")"
   ]
  },
  {
   "cell_type": "code",
   "execution_count": 15,
   "id": "f347dd68",
   "metadata": {},
   "outputs": [
    {
     "data": {
      "text/html": [
       "<div>\n",
       "<style scoped>\n",
       "    .dataframe tbody tr th:only-of-type {\n",
       "        vertical-align: middle;\n",
       "    }\n",
       "\n",
       "    .dataframe tbody tr th {\n",
       "        vertical-align: top;\n",
       "    }\n",
       "\n",
       "    .dataframe thead th {\n",
       "        text-align: right;\n",
       "    }\n",
       "</style>\n",
       "<table border=\"1\" class=\"dataframe\">\n",
       "  <thead>\n",
       "    <tr style=\"text-align: right;\">\n",
       "      <th></th>\n",
       "      <th>Player</th>\n",
       "      <th>HR</th>\n",
       "      <th>Team</th>\n",
       "    </tr>\n",
       "  </thead>\n",
       "  <tbody>\n",
       "    <tr>\n",
       "      <th>0</th>\n",
       "      <td>Barry Bonds</td>\n",
       "      <td>762.0</td>\n",
       "      <td>SF Giants</td>\n",
       "    </tr>\n",
       "    <tr>\n",
       "      <th>1</th>\n",
       "      <td>Hank Aaron</td>\n",
       "      <td>755.0</td>\n",
       "      <td>ATL Braves</td>\n",
       "    </tr>\n",
       "    <tr>\n",
       "      <th>2</th>\n",
       "      <td>Babe Ruth</td>\n",
       "      <td>714.0</td>\n",
       "      <td>New York Yankees</td>\n",
       "    </tr>\n",
       "    <tr>\n",
       "      <th>3</th>\n",
       "      <td>Alex Rodriguez</td>\n",
       "      <td>696.0</td>\n",
       "      <td>New York Yankees</td>\n",
       "    </tr>\n",
       "    <tr>\n",
       "      <th>4</th>\n",
       "      <td>Albert Pujols</td>\n",
       "      <td>703.0</td>\n",
       "      <td>Cardinals</td>\n",
       "    </tr>\n",
       "    <tr>\n",
       "      <th>5</th>\n",
       "      <td>Willie Mays</td>\n",
       "      <td>660.0</td>\n",
       "      <td>New York Giants</td>\n",
       "    </tr>\n",
       "    <tr>\n",
       "      <th>6</th>\n",
       "      <td>Ken Griffey Jr.</td>\n",
       "      <td>NaN</td>\n",
       "      <td>Seattle Mariners</td>\n",
       "    </tr>\n",
       "  </tbody>\n",
       "</table>\n",
       "</div>"
      ],
      "text/plain": [
       "            Player     HR              Team\n",
       "0      Barry Bonds  762.0         SF Giants\n",
       "1       Hank Aaron  755.0        ATL Braves\n",
       "2        Babe Ruth  714.0  New York Yankees\n",
       "3   Alex Rodriguez  696.0  New York Yankees\n",
       "4    Albert Pujols  703.0         Cardinals\n",
       "5      Willie Mays  660.0   New York Giants\n",
       "6  Ken Griffey Jr.    NaN  Seattle Mariners"
      ]
     },
     "execution_count": 15,
     "metadata": {},
     "output_type": "execute_result"
    }
   ],
   "source": [
    "df"
   ]
  },
  {
   "cell_type": "code",
   "execution_count": 16,
   "id": "eda66889",
   "metadata": {},
   "outputs": [],
   "source": [
    "# Example 5: entire dataframe\n",
    "data2 = {\n",
    "    'team_one_city': ['Los Angeles'],\n",
    "    'team_two_city': ['Los Angeles']\n",
    "}"
   ]
  },
  {
   "cell_type": "code",
   "execution_count": 17,
   "id": "f97439d4",
   "metadata": {},
   "outputs": [],
   "source": [
    "df2 = pd.DataFrame(data2)"
   ]
  },
  {
   "cell_type": "code",
   "execution_count": 18,
   "id": "2e9f8d3f",
   "metadata": {},
   "outputs": [
    {
     "data": {
      "text/html": [
       "<div>\n",
       "<style scoped>\n",
       "    .dataframe tbody tr th:only-of-type {\n",
       "        vertical-align: middle;\n",
       "    }\n",
       "\n",
       "    .dataframe tbody tr th {\n",
       "        vertical-align: top;\n",
       "    }\n",
       "\n",
       "    .dataframe thead th {\n",
       "        text-align: right;\n",
       "    }\n",
       "</style>\n",
       "<table border=\"1\" class=\"dataframe\">\n",
       "  <thead>\n",
       "    <tr style=\"text-align: right;\">\n",
       "      <th></th>\n",
       "      <th>team_one_city</th>\n",
       "      <th>team_two_city</th>\n",
       "    </tr>\n",
       "  </thead>\n",
       "  <tbody>\n",
       "    <tr>\n",
       "      <th>0</th>\n",
       "      <td>Los Angeles</td>\n",
       "      <td>Los Angeles</td>\n",
       "    </tr>\n",
       "  </tbody>\n",
       "</table>\n",
       "</div>"
      ],
      "text/plain": [
       "  team_one_city team_two_city\n",
       "0   Los Angeles   Los Angeles"
      ]
     },
     "execution_count": 18,
     "metadata": {},
     "output_type": "execute_result"
    }
   ],
   "source": [
    "df2"
   ]
  },
  {
   "cell_type": "code",
   "execution_count": 19,
   "id": "8b1429b6",
   "metadata": {},
   "outputs": [
    {
     "data": {
      "text/html": [
       "<div>\n",
       "<style scoped>\n",
       "    .dataframe tbody tr th:only-of-type {\n",
       "        vertical-align: middle;\n",
       "    }\n",
       "\n",
       "    .dataframe tbody tr th {\n",
       "        vertical-align: top;\n",
       "    }\n",
       "\n",
       "    .dataframe thead th {\n",
       "        text-align: right;\n",
       "    }\n",
       "</style>\n",
       "<table border=\"1\" class=\"dataframe\">\n",
       "  <thead>\n",
       "    <tr style=\"text-align: right;\">\n",
       "      <th></th>\n",
       "      <th>team_one_city</th>\n",
       "      <th>team_two_city</th>\n",
       "    </tr>\n",
       "  </thead>\n",
       "  <tbody>\n",
       "    <tr>\n",
       "      <th>0</th>\n",
       "      <td>LA</td>\n",
       "      <td>LA</td>\n",
       "    </tr>\n",
       "  </tbody>\n",
       "</table>\n",
       "</div>"
      ],
      "text/plain": [
       "  team_one_city team_two_city\n",
       "0            LA            LA"
      ]
     },
     "execution_count": 19,
     "metadata": {},
     "output_type": "execute_result"
    }
   ],
   "source": [
    "df2.replace('Los Angeles', 'LA')"
   ]
  },
  {
   "cell_type": "code",
   "execution_count": 20,
   "id": "f0263957",
   "metadata": {},
   "outputs": [],
   "source": [
    "# Example 6: replace using regex\n",
    "data3 = {\n",
    "    'team_one_city': ['Los Angeles Angeles'],\n",
    "    'team_two_city': ['Los Angeles Dodgers']  \n",
    "}"
   ]
  },
  {
   "cell_type": "code",
   "execution_count": 21,
   "id": "9dc3a2f1",
   "metadata": {},
   "outputs": [],
   "source": [
    "df3 = pd.DataFrame(data3)"
   ]
  },
  {
   "cell_type": "code",
   "execution_count": 22,
   "id": "148f5316",
   "metadata": {},
   "outputs": [
    {
     "data": {
      "text/html": [
       "<div>\n",
       "<style scoped>\n",
       "    .dataframe tbody tr th:only-of-type {\n",
       "        vertical-align: middle;\n",
       "    }\n",
       "\n",
       "    .dataframe tbody tr th {\n",
       "        vertical-align: top;\n",
       "    }\n",
       "\n",
       "    .dataframe thead th {\n",
       "        text-align: right;\n",
       "    }\n",
       "</style>\n",
       "<table border=\"1\" class=\"dataframe\">\n",
       "  <thead>\n",
       "    <tr style=\"text-align: right;\">\n",
       "      <th></th>\n",
       "      <th>team_one_city</th>\n",
       "      <th>team_two_city</th>\n",
       "    </tr>\n",
       "  </thead>\n",
       "  <tbody>\n",
       "    <tr>\n",
       "      <th>0</th>\n",
       "      <td>LA Angeles</td>\n",
       "      <td>LA Dodgers</td>\n",
       "    </tr>\n",
       "  </tbody>\n",
       "</table>\n",
       "</div>"
      ],
      "text/plain": [
       "  team_one_city team_two_city\n",
       "0    LA Angeles    LA Dodgers"
      ]
     },
     "execution_count": 22,
     "metadata": {},
     "output_type": "execute_result"
    }
   ],
   "source": [
    "df3.replace('Los Angeles', 'LA', regex=True)"
   ]
  },
  {
   "cell_type": "code",
   "execution_count": 23,
   "id": "d5fd72a7",
   "metadata": {},
   "outputs": [],
   "source": [
    "# Example 7: Replace $ using regex\n",
    "data4 = {\n",
    "    'Card Name': ['Ken Griffey Jr.', 'Derek Jeter', 'Mike Trout', 'Babe Ruth'],\n",
    "    'Sold Price': ['$1,200.00', '$3,500.50', '$2,000.00', '$10,000.00']\n",
    "}"
   ]
  },
  {
   "cell_type": "code",
   "execution_count": 24,
   "id": "e2e94335",
   "metadata": {},
   "outputs": [],
   "source": [
    "sales_df = pd.DataFrame(data4)"
   ]
  },
  {
   "cell_type": "code",
   "execution_count": 25,
   "id": "8558d48f",
   "metadata": {},
   "outputs": [
    {
     "data": {
      "text/html": [
       "<div>\n",
       "<style scoped>\n",
       "    .dataframe tbody tr th:only-of-type {\n",
       "        vertical-align: middle;\n",
       "    }\n",
       "\n",
       "    .dataframe tbody tr th {\n",
       "        vertical-align: top;\n",
       "    }\n",
       "\n",
       "    .dataframe thead th {\n",
       "        text-align: right;\n",
       "    }\n",
       "</style>\n",
       "<table border=\"1\" class=\"dataframe\">\n",
       "  <thead>\n",
       "    <tr style=\"text-align: right;\">\n",
       "      <th></th>\n",
       "      <th>Card Name</th>\n",
       "      <th>Sold Price</th>\n",
       "    </tr>\n",
       "  </thead>\n",
       "  <tbody>\n",
       "    <tr>\n",
       "      <th>0</th>\n",
       "      <td>Ken Griffey Jr.</td>\n",
       "      <td>$1,200.00</td>\n",
       "    </tr>\n",
       "    <tr>\n",
       "      <th>1</th>\n",
       "      <td>Derek Jeter</td>\n",
       "      <td>$3,500.50</td>\n",
       "    </tr>\n",
       "    <tr>\n",
       "      <th>2</th>\n",
       "      <td>Mike Trout</td>\n",
       "      <td>$2,000.00</td>\n",
       "    </tr>\n",
       "    <tr>\n",
       "      <th>3</th>\n",
       "      <td>Babe Ruth</td>\n",
       "      <td>$10,000.00</td>\n",
       "    </tr>\n",
       "  </tbody>\n",
       "</table>\n",
       "</div>"
      ],
      "text/plain": [
       "         Card Name  Sold Price\n",
       "0  Ken Griffey Jr.   $1,200.00\n",
       "1      Derek Jeter   $3,500.50\n",
       "2       Mike Trout   $2,000.00\n",
       "3        Babe Ruth  $10,000.00"
      ]
     },
     "execution_count": 25,
     "metadata": {},
     "output_type": "execute_result"
    }
   ],
   "source": [
    "sales_df"
   ]
  },
  {
   "cell_type": "code",
   "execution_count": 32,
   "id": "f60f5922",
   "metadata": {},
   "outputs": [],
   "source": [
    "sales_df['Sold Price'] = sales_df['Sold Price'].replace('[$,]', '', regex=True)"
   ]
  },
  {
   "cell_type": "code",
   "execution_count": 33,
   "id": "075936bd",
   "metadata": {},
   "outputs": [
    {
     "data": {
      "text/html": [
       "<div>\n",
       "<style scoped>\n",
       "    .dataframe tbody tr th:only-of-type {\n",
       "        vertical-align: middle;\n",
       "    }\n",
       "\n",
       "    .dataframe tbody tr th {\n",
       "        vertical-align: top;\n",
       "    }\n",
       "\n",
       "    .dataframe thead th {\n",
       "        text-align: right;\n",
       "    }\n",
       "</style>\n",
       "<table border=\"1\" class=\"dataframe\">\n",
       "  <thead>\n",
       "    <tr style=\"text-align: right;\">\n",
       "      <th></th>\n",
       "      <th>Card Name</th>\n",
       "      <th>Sold Price</th>\n",
       "    </tr>\n",
       "  </thead>\n",
       "  <tbody>\n",
       "    <tr>\n",
       "      <th>0</th>\n",
       "      <td>Ken Griffey Jr.</td>\n",
       "      <td>1200.00</td>\n",
       "    </tr>\n",
       "    <tr>\n",
       "      <th>1</th>\n",
       "      <td>Derek Jeter</td>\n",
       "      <td>3500.50</td>\n",
       "    </tr>\n",
       "    <tr>\n",
       "      <th>2</th>\n",
       "      <td>Mike Trout</td>\n",
       "      <td>2000.00</td>\n",
       "    </tr>\n",
       "    <tr>\n",
       "      <th>3</th>\n",
       "      <td>Babe Ruth</td>\n",
       "      <td>10000.00</td>\n",
       "    </tr>\n",
       "  </tbody>\n",
       "</table>\n",
       "</div>"
      ],
      "text/plain": [
       "         Card Name Sold Price\n",
       "0  Ken Griffey Jr.    1200.00\n",
       "1      Derek Jeter    3500.50\n",
       "2       Mike Trout    2000.00\n",
       "3        Babe Ruth   10000.00"
      ]
     },
     "execution_count": 33,
     "metadata": {},
     "output_type": "execute_result"
    }
   ],
   "source": [
    "sales_df"
   ]
  },
  {
   "cell_type": "code",
   "execution_count": null,
   "id": "a585d10f",
   "metadata": {},
   "outputs": [],
   "source": []
  }
 ],
 "metadata": {
  "kernelspec": {
   "display_name": "Python 3",
   "language": "python",
   "name": "python3"
  },
  "language_info": {
   "codemirror_mode": {
    "name": "ipython",
    "version": 3
   },
   "file_extension": ".py",
   "mimetype": "text/x-python",
   "name": "python",
   "nbconvert_exporter": "python",
   "pygments_lexer": "ipython3",
   "version": "3.13.1"
  }
 },
 "nbformat": 4,
 "nbformat_minor": 5
}
